{
 "cells": [
  {
   "cell_type": "code",
   "execution_count": 1,
   "metadata": {},
   "outputs": [],
   "source": [
    "import numpy as np\n",
    "import pandas as pd\n",
    "import matplotlib.pyplot as plt\n",
    "from datetime import datetime\n",
    "import plotly.express as px\n",
    "import plotly.graph_objects as go\n",
    "from plotly.offline import iplot\n",
    "import plotly.io as pio\n",
    "import random"
   ]
  },
  {
   "cell_type": "code",
   "execution_count": 5,
   "metadata": {},
   "outputs": [
    {
     "data": {
      "text/html": [
       "<div>\n",
       "<style scoped>\n",
       "    .dataframe tbody tr th:only-of-type {\n",
       "        vertical-align: middle;\n",
       "    }\n",
       "\n",
       "    .dataframe tbody tr th {\n",
       "        vertical-align: top;\n",
       "    }\n",
       "\n",
       "    .dataframe thead th {\n",
       "        text-align: right;\n",
       "    }\n",
       "</style>\n",
       "<table border=\"1\" class=\"dataframe\">\n",
       "  <thead>\n",
       "    <tr style=\"text-align: right;\">\n",
       "      <th></th>\n",
       "      <th>Unnamed: 0.2</th>\n",
       "      <th>Unnamed: 0.1</th>\n",
       "      <th>Unnamed: 0</th>\n",
       "      <th>NodeID</th>\n",
       "      <th>time_sampled</th>\n",
       "      <th>flow_rate</th>\n",
       "      <th>datetime</th>\n",
       "      <th>volume</th>\n",
       "      <th>day</th>\n",
       "      <th>date</th>\n",
       "      <th>DVol</th>\n",
       "      <th>Date</th>\n",
       "    </tr>\n",
       "  </thead>\n",
       "  <tbody>\n",
       "    <tr>\n",
       "      <th>0</th>\n",
       "      <td>806</td>\n",
       "      <td>806</td>\n",
       "      <td>900949</td>\n",
       "      <td>N01</td>\n",
       "      <td>1.637694e+09</td>\n",
       "      <td>0.02</td>\n",
       "      <td>2021-11-24 00:00:16</td>\n",
       "      <td>0.010</td>\n",
       "      <td>We</td>\n",
       "      <td>2021-11-24</td>\n",
       "      <td>0.010</td>\n",
       "      <td>2021-11-24</td>\n",
       "    </tr>\n",
       "    <tr>\n",
       "      <th>1</th>\n",
       "      <td>807</td>\n",
       "      <td>807</td>\n",
       "      <td>900948</td>\n",
       "      <td>N01</td>\n",
       "      <td>1.637694e+09</td>\n",
       "      <td>0.02</td>\n",
       "      <td>2021-11-24 00:00:46</td>\n",
       "      <td>0.010</td>\n",
       "      <td>We</td>\n",
       "      <td>2021-11-24</td>\n",
       "      <td>0.020</td>\n",
       "      <td>2021-11-24</td>\n",
       "    </tr>\n",
       "    <tr>\n",
       "      <th>2</th>\n",
       "      <td>808</td>\n",
       "      <td>808</td>\n",
       "      <td>900947</td>\n",
       "      <td>N01</td>\n",
       "      <td>1.637694e+09</td>\n",
       "      <td>0.01</td>\n",
       "      <td>2021-11-24 00:01:16</td>\n",
       "      <td>0.004</td>\n",
       "      <td>We</td>\n",
       "      <td>2021-11-24</td>\n",
       "      <td>0.024</td>\n",
       "      <td>2021-11-24</td>\n",
       "    </tr>\n",
       "    <tr>\n",
       "      <th>3</th>\n",
       "      <td>809</td>\n",
       "      <td>809</td>\n",
       "      <td>900946</td>\n",
       "      <td>N01</td>\n",
       "      <td>1.637694e+09</td>\n",
       "      <td>0.00</td>\n",
       "      <td>2021-11-24 00:01:46</td>\n",
       "      <td>0.000</td>\n",
       "      <td>We</td>\n",
       "      <td>2021-11-24</td>\n",
       "      <td>0.024</td>\n",
       "      <td>2021-11-24</td>\n",
       "    </tr>\n",
       "    <tr>\n",
       "      <th>4</th>\n",
       "      <td>810</td>\n",
       "      <td>810</td>\n",
       "      <td>900945</td>\n",
       "      <td>N01</td>\n",
       "      <td>1.637694e+09</td>\n",
       "      <td>0.02</td>\n",
       "      <td>2021-11-24 00:02:16</td>\n",
       "      <td>0.012</td>\n",
       "      <td>We</td>\n",
       "      <td>2021-11-24</td>\n",
       "      <td>0.036</td>\n",
       "      <td>2021-11-24</td>\n",
       "    </tr>\n",
       "  </tbody>\n",
       "</table>\n",
       "</div>"
      ],
      "text/plain": [
       "   Unnamed: 0.2  Unnamed: 0.1  Unnamed: 0 NodeID  time_sampled  flow_rate  \\\n",
       "0           806           806      900949    N01  1.637694e+09       0.02   \n",
       "1           807           807      900948    N01  1.637694e+09       0.02   \n",
       "2           808           808      900947    N01  1.637694e+09       0.01   \n",
       "3           809           809      900946    N01  1.637694e+09       0.00   \n",
       "4           810           810      900945    N01  1.637694e+09       0.02   \n",
       "\n",
       "              datetime  volume day        date   DVol        Date  \n",
       "0  2021-11-24 00:00:16   0.010  We  2021-11-24  0.010  2021-11-24  \n",
       "1  2021-11-24 00:00:46   0.010  We  2021-11-24  0.020  2021-11-24  \n",
       "2  2021-11-24 00:01:16   0.004  We  2021-11-24  0.024  2021-11-24  \n",
       "3  2021-11-24 00:01:46   0.000  We  2021-11-24  0.024  2021-11-24  \n",
       "4  2021-11-24 00:02:16   0.012  We  2021-11-24  0.036  2021-11-24  "
      ]
     },
     "execution_count": 5,
     "metadata": {},
     "output_type": "execute_result"
    }
   ],
   "source": [
    "df.head()"
   ]
  },
  {
   "cell_type": "code",
   "execution_count": null,
   "metadata": {},
   "outputs": [],
   "source": [
    "def add_days(df):\n",
    "    '''Storing day names for processing each week'''\n",
    "    dates = list(df['Date'])\n",
    "    days = []\n",
    "    for j in dates:\n",
    "        if j[2] == '/':\n",
    "            date_object = datetime.strptime(j, '%d/%m/%Y').date()\n",
    "        else:\n",
    "            date_object = datetime.strptime(j, '%Y-%m-%d').date()\n",
    "        days.append(date_object.strftime('%A')[:2])\n",
    "    df['day'] = days\n",
    "    return df"
   ]
  },
  {
   "attachments": {},
   "cell_type": "markdown",
   "metadata": {},
   "source": [
    "## Plots DWU 6 Days"
   ]
  },
  {
   "attachments": {},
   "cell_type": "markdown",
   "metadata": {},
   "source": [
    "Plotting daily water usage of 6 random days for each node as line graphs."
   ]
  },
  {
   "cell_type": "code",
   "execution_count": 2,
   "metadata": {},
   "outputs": [],
   "source": [
    "hh_occ = pd.read_excel('D:\\OneDrive - Habib University\\HU\\KWP\\\\Data\\HH_Occupancy.xlsx')\n",
    "hh_members = list(hh_occ['Members'])"
   ]
  },
  {
   "cell_type": "code",
   "execution_count": null,
   "metadata": {},
   "outputs": [],
   "source": [
    "'''Faceted Plots'''\n",
    "\n",
    "weekdays = ['Mo','Tu','We','Th','Fr']\n",
    "weekends = ['Sa','Su']\n",
    "\n",
    "for i in range(1,10):\n",
    "    df = pd.read_csv('D:\\OneDrive - Habib University\\HU\\KWP\\\\Data\\DataDaily\\ALLCF_Filtered\\ALLCF_Daily'+str(i)+'.csv')\n",
    "    df = add_days(df) #adding weekdays to data\n",
    "    df['Hour'] = df.Time.str[:2] #adding col for hour component of Time\n",
    "    df['Hr-Minute'] = df.Time.str[:5] #adding minute info in sep column, from Time\n",
    "    no_hh_mem = hh_members[i-1] #no of occupants in household for this node\n",
    "    # Getting relevant info\n",
    "    df_week = df[df['day'].isin(weekends)] # only taking datapoints for weekdays\n",
    "    dates = df_week['Date'].unique() # getting 6 random days to visualise\n",
    "    rand_dates = random.choices(dates,k=6) \n",
    "    df_dates = df_week[df_week[\"Date\"].isin(rand_dates)] #getting datapoints of the 6 selected days only\n",
    "    df_dates=df_dates.sort_values('Hr-Minute') # sort for x-axis\n",
    "    # Plotting\n",
    "    figtitle = 'N0'+str(i)+' - '+str(no_hh_mem)+' Occupants (Weekdays)'\n",
    "    fig = px.line(df_dates,x='Hr-Minute',y='DVol',facet_row='Date',title=figtitle,height=1000)\n",
    "    fig.for_each_annotation(lambda a: a.update(text=a.text.split(\"=\")[-1][2:]))\n",
    "    for annotation in fig['layout']['annotations']: \n",
    "        annotation['textangle']= 0\n",
    "    fig.update_xaxes(categoryorder='array', categoryarray= df_dates['Hr-Minute'].unique())\n",
    "    fig.show()\n",
    "    # fig.write_image(\"Daily Usage\\\\N0\"+str(i)+\".png\")\n",
    "    pio.write_image(fig, \"Daily Usage\\\\faceted\\\\Weekends\\\\N0\"+str(i)+\"-6days-weekends.png\")"
   ]
  },
  {
   "cell_type": "code",
   "execution_count": null,
   "metadata": {},
   "outputs": [],
   "source": [
    "'''Non-Faceted Plots'''\n",
    "\n",
    "weekdays = ['Mo','Tu','We','Th','Fr']\n",
    "weekends = ['Sa','Su']\n",
    "\n",
    "for i in range(1,27):\n",
    "    # df = pd.read_csv('D:\\OneDrive - Habib University\\HU\\KWP\\\\Data\\DailyUsage\\ALLCF_Useful\\ALLCF_Useful'+str(i)+'.csv')\n",
    "    # df = pd.read_csv('D:\\OneDrive - Habib University\\HU\\KWP\\\\Data\\DailyUsage\\ALLCF_Daily0'+str(i)+'.csv')\n",
    "    df = pd.read_csv('D:\\OneDrive - Habib University\\HU\\KWP\\\\Data\\Preprocessed\\\\N0'+str(i)+'_cleaned.csv')\n",
    "    # df = add_days(df)\n",
    "    df['Hour'] = df.Time.str[:2]\n",
    "    df['Hr-Minute'] = df.Time.str[:5]\n",
    "    no_hh_mem = hh_members[i-1]\n",
    "    # no_hh_mem = '[NA]'\n",
    "    df_week = df[df['day'].isin(weekends)]\n",
    "    dates = df_week['Date'].unique()\n",
    "    if len(dates) < 6:\n",
    "        continue\n",
    "    dates_plot = random.choices(dates,k=6)\n",
    "    df = df.sort_values('Hr-Minute')\n",
    "    fig = go.Figure()\n",
    "    for d in dates_plot:\n",
    "        df_date = df[df[\"Date\"] == d]\n",
    "        df_date = df_date.sort_values('Hr-Minute') # sort for x-axis\n",
    "        # ------------\n",
    "        fig = fig.add_trace(go.Scatter(x = df_date['Hr-Minute'], y = df_date[\"DVol\"], name = str(d)[2:]))\n",
    "        # add traces to fig and export it\n",
    "    fig.update_xaxes(categoryorder='array', categoryarray= df['Hr-Minute'].unique())\n",
    "    fig.update_layout(title='N'+str(i)+' - '+str(no_hh_mem)+' Occupants (Weekends)')\n",
    "    # fig.show()\n",
    "    pio.write_image(fig, \"Daily Usage - Plots\\\\useful_days\\\\Weekends\\\\N\"+str(i)+\"-weekends.png\")"
   ]
  },
  {
   "cell_type": "code",
   "execution_count": 4,
   "metadata": {},
   "outputs": [
    {
     "name": "stderr",
     "output_type": "stream",
     "text": [
      "C:\\Users\\Digital Traders\\AppData\\Local\\Temp\\ipykernel_7732\\505942870.py:28: SettingWithCopyWarning:\n",
      "\n",
      "\n",
      "A value is trying to be set on a copy of a slice from a DataFrame.\n",
      "Try using .loc[row_indexer,col_indexer] = value instead\n",
      "\n",
      "See the caveats in the documentation: https://pandas.pydata.org/pandas-docs/stable/user_guide/indexing.html#returning-a-view-versus-a-copy\n",
      "\n",
      "C:\\Users\\Digital Traders\\AppData\\Local\\Temp\\ipykernel_7732\\505942870.py:28: SettingWithCopyWarning:\n",
      "\n",
      "\n",
      "A value is trying to be set on a copy of a slice from a DataFrame.\n",
      "Try using .loc[row_indexer,col_indexer] = value instead\n",
      "\n",
      "See the caveats in the documentation: https://pandas.pydata.org/pandas-docs/stable/user_guide/indexing.html#returning-a-view-versus-a-copy\n",
      "\n",
      "C:\\Users\\Digital Traders\\AppData\\Local\\Temp\\ipykernel_7732\\505942870.py:28: SettingWithCopyWarning:\n",
      "\n",
      "\n",
      "A value is trying to be set on a copy of a slice from a DataFrame.\n",
      "Try using .loc[row_indexer,col_indexer] = value instead\n",
      "\n",
      "See the caveats in the documentation: https://pandas.pydata.org/pandas-docs/stable/user_guide/indexing.html#returning-a-view-versus-a-copy\n",
      "\n",
      "C:\\Users\\Digital Traders\\AppData\\Local\\Temp\\ipykernel_7732\\505942870.py:28: SettingWithCopyWarning:\n",
      "\n",
      "\n",
      "A value is trying to be set on a copy of a slice from a DataFrame.\n",
      "Try using .loc[row_indexer,col_indexer] = value instead\n",
      "\n",
      "See the caveats in the documentation: https://pandas.pydata.org/pandas-docs/stable/user_guide/indexing.html#returning-a-view-versus-a-copy\n",
      "\n",
      "C:\\Users\\Digital Traders\\AppData\\Local\\Temp\\ipykernel_7732\\505942870.py:28: SettingWithCopyWarning:\n",
      "\n",
      "\n",
      "A value is trying to be set on a copy of a slice from a DataFrame.\n",
      "Try using .loc[row_indexer,col_indexer] = value instead\n",
      "\n",
      "See the caveats in the documentation: https://pandas.pydata.org/pandas-docs/stable/user_guide/indexing.html#returning-a-view-versus-a-copy\n",
      "\n",
      "C:\\Users\\Digital Traders\\AppData\\Local\\Temp\\ipykernel_7732\\505942870.py:28: SettingWithCopyWarning:\n",
      "\n",
      "\n",
      "A value is trying to be set on a copy of a slice from a DataFrame.\n",
      "Try using .loc[row_indexer,col_indexer] = value instead\n",
      "\n",
      "See the caveats in the documentation: https://pandas.pydata.org/pandas-docs/stable/user_guide/indexing.html#returning-a-view-versus-a-copy\n",
      "\n",
      "C:\\Users\\Digital Traders\\AppData\\Local\\Temp\\ipykernel_7732\\505942870.py:28: SettingWithCopyWarning:\n",
      "\n",
      "\n",
      "A value is trying to be set on a copy of a slice from a DataFrame.\n",
      "Try using .loc[row_indexer,col_indexer] = value instead\n",
      "\n",
      "See the caveats in the documentation: https://pandas.pydata.org/pandas-docs/stable/user_guide/indexing.html#returning-a-view-versus-a-copy\n",
      "\n",
      "C:\\Users\\Digital Traders\\AppData\\Local\\Temp\\ipykernel_7732\\505942870.py:28: SettingWithCopyWarning:\n",
      "\n",
      "\n",
      "A value is trying to be set on a copy of a slice from a DataFrame.\n",
      "Try using .loc[row_indexer,col_indexer] = value instead\n",
      "\n",
      "See the caveats in the documentation: https://pandas.pydata.org/pandas-docs/stable/user_guide/indexing.html#returning-a-view-versus-a-copy\n",
      "\n",
      "C:\\Users\\Digital Traders\\AppData\\Local\\Temp\\ipykernel_7732\\505942870.py:28: SettingWithCopyWarning:\n",
      "\n",
      "\n",
      "A value is trying to be set on a copy of a slice from a DataFrame.\n",
      "Try using .loc[row_indexer,col_indexer] = value instead\n",
      "\n",
      "See the caveats in the documentation: https://pandas.pydata.org/pandas-docs/stable/user_guide/indexing.html#returning-a-view-versus-a-copy\n",
      "\n",
      "C:\\Users\\Digital Traders\\AppData\\Local\\Temp\\ipykernel_7732\\505942870.py:28: SettingWithCopyWarning:\n",
      "\n",
      "\n",
      "A value is trying to be set on a copy of a slice from a DataFrame.\n",
      "Try using .loc[row_indexer,col_indexer] = value instead\n",
      "\n",
      "See the caveats in the documentation: https://pandas.pydata.org/pandas-docs/stable/user_guide/indexing.html#returning-a-view-versus-a-copy\n",
      "\n",
      "C:\\Users\\Digital Traders\\AppData\\Local\\Temp\\ipykernel_7732\\505942870.py:28: SettingWithCopyWarning:\n",
      "\n",
      "\n",
      "A value is trying to be set on a copy of a slice from a DataFrame.\n",
      "Try using .loc[row_indexer,col_indexer] = value instead\n",
      "\n",
      "See the caveats in the documentation: https://pandas.pydata.org/pandas-docs/stable/user_guide/indexing.html#returning-a-view-versus-a-copy\n",
      "\n",
      "C:\\Users\\Digital Traders\\AppData\\Local\\Temp\\ipykernel_7732\\505942870.py:28: SettingWithCopyWarning:\n",
      "\n",
      "\n",
      "A value is trying to be set on a copy of a slice from a DataFrame.\n",
      "Try using .loc[row_indexer,col_indexer] = value instead\n",
      "\n",
      "See the caveats in the documentation: https://pandas.pydata.org/pandas-docs/stable/user_guide/indexing.html#returning-a-view-versus-a-copy\n",
      "\n",
      "C:\\Users\\Digital Traders\\AppData\\Local\\Temp\\ipykernel_7732\\505942870.py:28: SettingWithCopyWarning:\n",
      "\n",
      "\n",
      "A value is trying to be set on a copy of a slice from a DataFrame.\n",
      "Try using .loc[row_indexer,col_indexer] = value instead\n",
      "\n",
      "See the caveats in the documentation: https://pandas.pydata.org/pandas-docs/stable/user_guide/indexing.html#returning-a-view-versus-a-copy\n",
      "\n",
      "C:\\Users\\Digital Traders\\AppData\\Local\\Temp\\ipykernel_7732\\505942870.py:28: SettingWithCopyWarning:\n",
      "\n",
      "\n",
      "A value is trying to be set on a copy of a slice from a DataFrame.\n",
      "Try using .loc[row_indexer,col_indexer] = value instead\n",
      "\n",
      "See the caveats in the documentation: https://pandas.pydata.org/pandas-docs/stable/user_guide/indexing.html#returning-a-view-versus-a-copy\n",
      "\n",
      "C:\\Users\\Digital Traders\\AppData\\Local\\Temp\\ipykernel_7732\\505942870.py:28: SettingWithCopyWarning:\n",
      "\n",
      "\n",
      "A value is trying to be set on a copy of a slice from a DataFrame.\n",
      "Try using .loc[row_indexer,col_indexer] = value instead\n",
      "\n",
      "See the caveats in the documentation: https://pandas.pydata.org/pandas-docs/stable/user_guide/indexing.html#returning-a-view-versus-a-copy\n",
      "\n",
      "C:\\Users\\Digital Traders\\AppData\\Local\\Temp\\ipykernel_7732\\505942870.py:28: SettingWithCopyWarning:\n",
      "\n",
      "\n",
      "A value is trying to be set on a copy of a slice from a DataFrame.\n",
      "Try using .loc[row_indexer,col_indexer] = value instead\n",
      "\n",
      "See the caveats in the documentation: https://pandas.pydata.org/pandas-docs/stable/user_guide/indexing.html#returning-a-view-versus-a-copy\n",
      "\n",
      "C:\\Users\\Digital Traders\\AppData\\Local\\Temp\\ipykernel_7732\\505942870.py:28: SettingWithCopyWarning:\n",
      "\n",
      "\n",
      "A value is trying to be set on a copy of a slice from a DataFrame.\n",
      "Try using .loc[row_indexer,col_indexer] = value instead\n",
      "\n",
      "See the caveats in the documentation: https://pandas.pydata.org/pandas-docs/stable/user_guide/indexing.html#returning-a-view-versus-a-copy\n",
      "\n",
      "C:\\Users\\Digital Traders\\AppData\\Local\\Temp\\ipykernel_7732\\505942870.py:28: SettingWithCopyWarning:\n",
      "\n",
      "\n",
      "A value is trying to be set on a copy of a slice from a DataFrame.\n",
      "Try using .loc[row_indexer,col_indexer] = value instead\n",
      "\n",
      "See the caveats in the documentation: https://pandas.pydata.org/pandas-docs/stable/user_guide/indexing.html#returning-a-view-versus-a-copy\n",
      "\n",
      "C:\\Users\\Digital Traders\\AppData\\Local\\Temp\\ipykernel_7732\\505942870.py:28: SettingWithCopyWarning:\n",
      "\n",
      "\n",
      "A value is trying to be set on a copy of a slice from a DataFrame.\n",
      "Try using .loc[row_indexer,col_indexer] = value instead\n",
      "\n",
      "See the caveats in the documentation: https://pandas.pydata.org/pandas-docs/stable/user_guide/indexing.html#returning-a-view-versus-a-copy\n",
      "\n",
      "C:\\Users\\Digital Traders\\AppData\\Local\\Temp\\ipykernel_7732\\505942870.py:28: SettingWithCopyWarning:\n",
      "\n",
      "\n",
      "A value is trying to be set on a copy of a slice from a DataFrame.\n",
      "Try using .loc[row_indexer,col_indexer] = value instead\n",
      "\n",
      "See the caveats in the documentation: https://pandas.pydata.org/pandas-docs/stable/user_guide/indexing.html#returning-a-view-versus-a-copy\n",
      "\n",
      "C:\\Users\\Digital Traders\\AppData\\Local\\Temp\\ipykernel_7732\\505942870.py:28: SettingWithCopyWarning:\n",
      "\n",
      "\n",
      "A value is trying to be set on a copy of a slice from a DataFrame.\n",
      "Try using .loc[row_indexer,col_indexer] = value instead\n",
      "\n",
      "See the caveats in the documentation: https://pandas.pydata.org/pandas-docs/stable/user_guide/indexing.html#returning-a-view-versus-a-copy\n",
      "\n",
      "C:\\Users\\Digital Traders\\AppData\\Local\\Temp\\ipykernel_7732\\505942870.py:28: SettingWithCopyWarning:\n",
      "\n",
      "\n",
      "A value is trying to be set on a copy of a slice from a DataFrame.\n",
      "Try using .loc[row_indexer,col_indexer] = value instead\n",
      "\n",
      "See the caveats in the documentation: https://pandas.pydata.org/pandas-docs/stable/user_guide/indexing.html#returning-a-view-versus-a-copy\n",
      "\n",
      "C:\\Users\\Digital Traders\\AppData\\Local\\Temp\\ipykernel_7732\\505942870.py:28: SettingWithCopyWarning:\n",
      "\n",
      "\n",
      "A value is trying to be set on a copy of a slice from a DataFrame.\n",
      "Try using .loc[row_indexer,col_indexer] = value instead\n",
      "\n",
      "See the caveats in the documentation: https://pandas.pydata.org/pandas-docs/stable/user_guide/indexing.html#returning-a-view-versus-a-copy\n",
      "\n"
     ]
    }
   ],
   "source": [
    "'''Non-Faceted Plots - Data w/ zeros'''\n",
    "\n",
    "weekdays = ['Mo','Tu','We','Th','Fr']\n",
    "weekends = ['Sa','Su']\n",
    "# summer_months = ['04','05','06','07','08','09'] #april - september\n",
    "winter_months = ['12','01','02'] #dec - feb\n",
    "\n",
    "for i in range(1,27):\n",
    "    df = pd.read_csv('D:\\OneDrive - Habib University\\HU\\KWP\\KWP-winter22\\Data\\Preprocessed\\OldSensorData\\\\filtered-5mins-2000dp\\\\filtered'+str(i)+'.csv')\n",
    "    df[\"Time\"] = df.datetime.str[11:]\n",
    "    df['Hour'] = df.Time.str[:2]\n",
    "    df['Hr-Minute'] = df.Time.str[:5]\n",
    "    # df['Date'] = df.datetime.str[:10]\n",
    "    no_hh_mem = hh_members[i-1]\n",
    "    df_week = df[df['day'].isin(weekdays)]\n",
    "    dates = df_week['Date'].unique()\n",
    "    if len(dates) == 0:\n",
    "        continue\n",
    "    elif len(dates) < 6:\n",
    "        dates_plot = dates\n",
    "    else:\n",
    "        dates_plot = random.choices(dates,k=6)\n",
    "    dates_plot.sort()\n",
    "    df = df.sort_values('Hr-Minute')\n",
    "    fig = go.Figure()\n",
    "    for d in dates_plot:\n",
    "        df_date = df[df[\"Date\"] == d]\n",
    "        df_date['DVol'] = df_date['volume'].cumsum()\n",
    "        df_date = df_date.sort_values('Hr-Minute') # sort for x-axis\n",
    "        if d[5:7] in winter_months:\n",
    "            fig = fig.add_trace(go.Scatter(x = df_date['Hr-Minute'], y = df_date[\"DVol\"],mode='lines',line=dict(width=2,dash='dash'), name = str(d)[2:]))\n",
    "        else:\n",
    "            fig = fig.add_trace(go.Scatter(x = df_date['Hr-Minute'], y = df_date[\"DVol\"],mode='lines',line=dict(width=2), name = str(d)[2:]))\n",
    "    fig.update_xaxes(categoryorder='array', categoryarray= df['Hr-Minute'].unique())\n",
    "    fig.update_traces(marker_size=2)\n",
    "    fig.update_layout(title='N'+str(i)+' - '+str(no_hh_mem)+' Occupants (Weekdays)',yaxis_title = 'Daily Water Usage (L)', xaxis_title ='Time of Day (h:m)')\n",
    "    # fig.show()\n",
    "    pio.write_image(fig, \"Daily Usage - Plots\\\\v4 - with zeros\\\\filtered-5mins-2000dp-dashed\\\\N\"+str(i)+\"-weekdays.png\")"
   ]
  },
  {
   "attachments": {},
   "cell_type": "markdown",
   "metadata": {},
   "source": [
    "## Sleeping & Waking "
   ]
  },
  {
   "cell_type": "code",
   "execution_count": 2,
   "metadata": {},
   "outputs": [],
   "source": [
    "def get_time_wake(df,threshold=5,ref_win=60):\n",
    "    '''Returns index of df to indicate when household woke up. Ref window is 30 mins long.'''\n",
    "    timewake_index = 0\n",
    "    # Stable region ending ie waking up\n",
    "    for i in range(1, len(df)):\n",
    "        increasing = []\n",
    "        diff = abs(df['DVol'][i] - df['DVol'][i-1])\n",
    "        # if diff > threshold:\n",
    "        if diff > 0: # water is being used\n",
    "            timewake_index = i # people may be waking up now\n",
    "            if (i + ref_win) < (len(df)-1): # see if people are using water in the succeeding time interval\n",
    "                window = i + ref_win\n",
    "            else:\n",
    "                window = len(df)-1\n",
    "            for j in range(i,window): # is water being used in next 30 mins\n",
    "                # if abs(df['DVol'][j] - df['DVol'][j+1]) > threshold:\n",
    "                if abs(df['DVol'][j] - df['DVol'][j+1]) > 0: # is water being used\n",
    "                    increasing.append(j)\n",
    "            if len(increasing) < (0.5*window): # if water is not being used > 30% of the window, people aren't awake yet\n",
    "                timewake_index = 0 # resetting\n",
    "            else:\n",
    "                break\n",
    "    return timewake_index"
   ]
  },
  {
   "cell_type": "code",
   "execution_count": 3,
   "metadata": {},
   "outputs": [],
   "source": [
    "def get_time_sleep(df,threshold=5,ref_win=30):\n",
    "    '''Returns index of df to indicate when household sleeps. Ref window is defaulted at 30 mins long.'''\n",
    "    # Stable start ie going to sleep\n",
    "    timesleep_index = len(df)-1\n",
    "    for i in range(1, len(df)):\n",
    "        sleeping = []\n",
    "        # if abs(df['DVol'][i] - df['DVol'][i-1]) < threshold:\n",
    "        if abs(df['DVol'][i] - df['DVol'][i-1]) == 0: # water is not being used\n",
    "            timesleep_index = i\n",
    "            if (i + ref_win) < (len(df)-1):\n",
    "                window = i + ref_win\n",
    "            else:\n",
    "                window = len(df)-1\n",
    "            for j in range(i,window):\n",
    "                # if abs(df['DVol'][j] - df['DVol'][j+1]) < threshold:\n",
    "                if abs(df['DVol'][j] - df['DVol'][j+1]) == 0: # water is not being used\n",
    "                    sleeping.append(j)\n",
    "            if len(sleeping) < (0.8*window): # if water is being used > 20% of the window, people aren't asleep yet \n",
    "                timesleep_index = len(df)-1 #resetting\n",
    "            else: # if water usage is 0 for more than 80% of the window, people may be going to sleep now, so stop loop and return current index\n",
    "                break\n",
    "    return timesleep_index"
   ]
  },
  {
   "cell_type": "code",
   "execution_count": 7,
   "metadata": {},
   "outputs": [],
   "source": [
    "'''For each day/date, group data by minute and calculate when the household woke up and went to sleep on that day. Add these values of each day to new dataframe.'''\n",
    "\n",
    "for i in range(1,2): # for each node \n",
    "    # df = pd.read_csv('D:\\OneDrive - Habib University\\HU\\KWP\\\\Data\\DataDaily\\ALLCF_Daily0'+str(i)+'.csv')\n",
    "    df = pd.read_csv('D:\\OneDrive - Habib University\\HU\\KWP\\KWP-winter22\\\\Data\\Preprocessed\\OldSensorData\\\\filtered-5mins-2000dp\\\\filtered'+str(i)+'.csv')\n",
    "    dates = df['Date'].unique()\n",
    "    wake_sleep_times = pd.DataFrame(columns = ['Node','Date','TimeWake','TimeSleep'])\n",
    "    df['Time'] = df.datetime.str[11:]\n",
    "    df['Hr-Minute'] = df.Time.str[:5]\n",
    "    # threshold = 5\n",
    "    for date in dates: #for each date of the node\n",
    "        df_date = df[df[\"Date\"] == date]\n",
    "        df_date = df_date.groupby('Hr-Minute').max() #cumulative, next hour already includes prev hour in it, can use just Hour since its one day\n",
    "        # # ------------\n",
    "        # fig = px.line(df_date,x=df_date.index,y='DVol')\n",
    "        # fig.show()\n",
    "        # break\n",
    "        # # ------------\n",
    "        timesleep_index = get_time_sleep(df_date)\n",
    "        timewake_index = get_time_wake(df_date)\n",
    "        # Add new row to final df\n",
    "        new_row = [df_date['NodeID'][timewake_index], date, df_date['Time'][timewake_index], df_date['Time'][timesleep_index]]\n",
    "        wake_sleep_times.loc[len(wake_sleep_times)] = new_row\n",
    "    wake_sleep_times.to_csv('D:\\OneDrive - Habib University\\HU\\KWP\\KWP-winter22\\\\Data\\SleepingPatterns/SP_N'+str(i)+'.csv')\n",
    "    # wake_sleep_times.head()\n",
    "    # break\n"
   ]
  },
  {
   "cell_type": "code",
   "execution_count": 12,
   "metadata": {},
   "outputs": [
    {
     "data": {
      "application/vnd.plotly.v1+json": {
       "config": {
        "plotlyServerURL": "https://plot.ly"
       },
       "data": [
        {
         "hovertemplate": "variable=TimeWake<br>Date=%{x}<br>value=%{y}<extra></extra>",
         "legendgroup": "TimeWake",
         "line": {
          "color": "#636efa",
          "dash": "solid"
         },
         "marker": {
          "symbol": "circle"
         },
         "mode": "lines",
         "name": "TimeWake",
         "orientation": "v",
         "showlegend": true,
         "type": "scatter",
         "x": [
          "2021-12-03",
          "2021-12-04",
          "2021-12-05",
          "2021-12-08",
          "2021-12-09",
          "2021-12-10",
          "2021-12-11",
          "2021-12-12",
          "2021-12-13",
          "2021-12-14",
          "2021-12-15",
          "2021-12-16",
          "2021-12-17",
          "2021-12-18",
          "2021-12-19",
          "2021-12-20",
          "2021-12-21",
          "2021-12-22",
          "2021-12-23",
          "2021-12-24",
          "2021-12-25",
          "2022-01-27",
          "2022-01-28",
          "2022-01-29",
          "2022-01-30",
          "2022-01-31",
          "2022-02-01",
          "2022-02-02",
          "2022-02-03",
          "2022-02-04",
          "2022-02-05",
          "2022-02-06",
          "2022-02-07",
          "2022-02-08",
          "2022-02-09",
          "2022-02-10",
          "2022-02-11",
          "2022-02-12",
          "2022-02-13",
          "2022-02-14",
          "2022-02-15",
          "2022-02-16",
          "2022-02-17",
          "2022-02-18",
          "2022-02-19",
          "2022-02-20",
          "2022-02-21",
          "2022-02-22",
          "2022-02-23",
          "2022-03-05",
          "2022-03-06",
          "2022-03-07",
          "2022-03-08",
          "2022-03-09",
          "2022-03-10",
          "2022-03-11",
          "2022-03-12",
          "2022-03-13",
          "2022-03-15",
          "2022-03-16",
          "2022-03-18",
          "2022-03-19",
          "2022-03-20",
          "2022-03-24",
          "2022-03-25",
          "2022-04-06",
          "2022-04-07",
          "2022-04-08",
          "2022-04-09",
          "2022-04-10",
          "2022-04-11",
          "2022-04-12",
          "2022-04-13",
          "2022-04-23",
          "2022-04-24",
          "2022-04-25",
          "2022-04-26",
          "2022-04-27",
          "2022-04-28",
          "2022-04-30",
          "2022-05-01",
          "2022-05-02",
          "2022-05-03",
          "2022-05-04",
          "2022-05-05",
          "2022-05-06",
          "2022-05-07",
          "2022-05-08",
          "2022-05-09",
          "2022-05-10",
          "2022-05-11",
          "2022-05-12",
          "2022-05-13",
          "2022-05-14",
          "2022-05-15",
          "2022-05-16",
          "2022-05-17",
          "2022-05-18",
          "2022-05-19",
          "2022-05-20",
          "2022-05-21",
          "2022-05-22",
          "2022-05-23",
          "2022-05-24",
          "2022-05-25",
          "2022-05-26",
          "2022-05-27",
          "2022-06-08",
          "2022-06-09",
          "2022-06-10",
          "2022-06-11",
          "2022-06-12",
          "2022-06-13",
          "2022-06-14",
          "2022-06-15",
          "2022-06-16",
          "2022-06-17",
          "2022-06-18",
          "2022-06-19",
          "2022-06-22",
          "2022-06-24",
          "2022-06-25",
          "2022-06-26",
          "2022-06-27",
          "2022-06-28",
          "2022-06-29",
          "2022-06-30",
          "2022-07-01",
          "2022-07-02",
          "2022-07-20",
          "2022-07-21",
          "2022-07-22",
          "2022-07-31",
          "2022-09-07",
          "2022-09-08",
          "2022-09-09",
          "2022-09-10",
          "2022-09-11",
          "2022-09-12",
          "2022-09-13",
          "2022-09-14",
          "2022-09-15",
          "2022-09-16",
          "2022-09-17",
          "2022-09-18",
          "2022-09-19",
          "2022-09-20",
          "2022-09-21",
          "2022-09-22",
          "2022-09-23",
          "2022-09-24",
          "2022-09-25",
          "2022-09-26",
          "2022-09-27",
          "2022-09-28",
          "2022-09-29",
          "2022-09-30",
          "2022-10-01",
          "2022-10-03",
          "2022-10-04",
          "2022-10-05",
          "2022-10-06",
          "2022-10-07",
          "2022-10-08",
          "2022-10-09",
          "2022-10-10",
          "2022-10-11",
          "2022-10-12",
          "2022-10-13",
          "2022-10-14",
          "2022-10-15",
          "2022-10-16",
          "2022-10-17",
          "2022-10-18",
          "2022-10-19",
          "2022-10-20",
          "2022-10-21",
          "2022-10-22",
          "2022-10-23",
          "2022-10-24",
          "2022-10-25",
          "2022-10-26",
          "2022-10-27",
          "2022-10-28",
          "2022-10-29",
          "2022-10-30",
          "2022-11-01",
          "2022-11-02",
          "2022-11-03",
          "2022-11-04",
          "2022-11-05",
          "2022-11-08",
          "2022-11-09"
         ],
         "xaxis": "x",
         "y": [
          "00:00:43",
          "00:00:43",
          "00:00:43",
          "00:00:55",
          "00:00:55",
          "00:00:55",
          "00:00:55",
          "00:00:55",
          "00:00:55",
          "00:00:55",
          "00:00:55",
          "00:00:55",
          "00:00:55",
          "00:00:55",
          "00:00:55",
          "00:00:55",
          "00:00:55",
          "00:00:55",
          "00:00:55",
          "00:00:55",
          "00:00:54",
          "00:00:34",
          "00:00:35",
          "00:00:35",
          "00:02:42",
          "00:00:42",
          "00:00:42",
          "00:00:42",
          "00:00:42",
          "00:00:42",
          "00:00:46",
          "00:00:46",
          "00:00:46",
          "00:00:46",
          "00:00:46",
          "00:00:46",
          "00:00:42",
          "00:00:42",
          "00:00:42",
          "00:00:42",
          "00:00:42",
          "00:00:42",
          "00:00:42",
          "00:00:59",
          "00:00:59",
          "00:00:59",
          "00:00:59",
          "00:00:59",
          "00:00:59",
          "00:00:33",
          "00:00:33",
          "00:00:33",
          "00:00:33",
          "00:00:33",
          "00:00:33",
          "00:02:33",
          "00:00:33",
          "00:00:33",
          "00:00:58",
          "00:00:58",
          "07:18:52",
          "00:00:52",
          "07:10:49",
          "00:00:41",
          "00:00:41",
          "15:48:59",
          "00:00:55",
          "00:01:59",
          "00:00:58",
          "00:00:57",
          "00:00:56",
          "00:00:36",
          "00:00:36",
          "00:00:35",
          "00:00:35",
          "00:00:35",
          "00:00:35",
          "00:00:35",
          "00:00:35",
          "00:00:50",
          "00:09:50",
          "00:00:50",
          "00:00:50",
          "00:00:50",
          "00:03:50",
          "00:01:50",
          "00:01:50",
          "00:00:50",
          "00:01:50",
          "00:00:50",
          "00:02:50",
          "00:00:50",
          "00:00:50",
          "00:16:50",
          "00:00:50",
          "00:00:50",
          "00:00:50",
          "00:00:50",
          "00:00:50",
          "00:00:50",
          "00:00:50",
          "00:00:50",
          "00:00:50",
          "00:00:50",
          "00:00:50",
          "00:00:50",
          "00:00:50",
          "00:00:58",
          "00:01:58",
          "00:00:58",
          "00:00:58",
          "00:00:58",
          "00:00:58",
          "00:00:58",
          "00:00:58",
          "00:00:58",
          "00:00:58",
          "00:00:58",
          "00:00:58",
          "00:00:58",
          "00:00:53",
          "00:00:53",
          "00:00:53",
          "00:00:53",
          "00:00:53",
          "00:00:53",
          "00:00:53",
          "00:00:53",
          "00:00:53",
          "00:00:50",
          "00:00:50",
          "00:00:50",
          "00:00:42",
          "00:00:44",
          "00:00:44",
          "00:00:44",
          "00:00:44",
          "00:00:44",
          "00:00:44",
          "00:00:44",
          "00:00:44",
          "00:00:44",
          "00:00:44",
          "00:00:44",
          "00:00:44",
          "00:00:44",
          "00:00:44",
          "00:00:44",
          "00:00:44",
          "00:00:44",
          "00:00:44",
          "00:00:44",
          "00:00:44",
          "00:00:44",
          "00:00:44",
          "00:00:44",
          "00:00:44",
          "00:00:44",
          "00:00:44",
          "00:00:44",
          "00:00:44",
          "00:00:44",
          "00:00:44",
          "00:00:44",
          "00:00:44",
          "00:04:44",
          "00:00:44",
          "00:00:44",
          "00:00:44",
          "00:00:44",
          "00:00:44",
          "00:00:44",
          "00:00:44",
          "00:00:44",
          "00:00:44",
          "00:00:44",
          "00:00:44",
          "00:00:44",
          "00:00:44",
          "00:00:44",
          "00:00:44",
          "00:00:44",
          "00:00:44",
          "00:00:44",
          "00:00:44",
          "00:00:44",
          "00:00:44",
          "00:00:44",
          "00:00:44",
          "00:00:44",
          "00:00:44",
          "00:00:44",
          "00:00:44"
         ],
         "yaxis": "y"
        },
        {
         "hovertemplate": "variable=TimeSleep<br>Date=%{x}<br>value=%{y}<extra></extra>",
         "legendgroup": "TimeSleep",
         "line": {
          "color": "#EF553B",
          "dash": "solid"
         },
         "marker": {
          "symbol": "circle"
         },
         "mode": "lines",
         "name": "TimeSleep",
         "orientation": "v",
         "showlegend": true,
         "type": "scatter",
         "x": [
          "2021-12-03",
          "2021-12-04",
          "2021-12-05",
          "2021-12-08",
          "2021-12-09",
          "2021-12-10",
          "2021-12-11",
          "2021-12-12",
          "2021-12-13",
          "2021-12-14",
          "2021-12-15",
          "2021-12-16",
          "2021-12-17",
          "2021-12-18",
          "2021-12-19",
          "2021-12-20",
          "2021-12-21",
          "2021-12-22",
          "2021-12-23",
          "2021-12-24",
          "2021-12-25",
          "2022-01-27",
          "2022-01-28",
          "2022-01-29",
          "2022-01-30",
          "2022-01-31",
          "2022-02-01",
          "2022-02-02",
          "2022-02-03",
          "2022-02-04",
          "2022-02-05",
          "2022-02-06",
          "2022-02-07",
          "2022-02-08",
          "2022-02-09",
          "2022-02-10",
          "2022-02-11",
          "2022-02-12",
          "2022-02-13",
          "2022-02-14",
          "2022-02-15",
          "2022-02-16",
          "2022-02-17",
          "2022-02-18",
          "2022-02-19",
          "2022-02-20",
          "2022-02-21",
          "2022-02-22",
          "2022-02-23",
          "2022-03-05",
          "2022-03-06",
          "2022-03-07",
          "2022-03-08",
          "2022-03-09",
          "2022-03-10",
          "2022-03-11",
          "2022-03-12",
          "2022-03-13",
          "2022-03-15",
          "2022-03-16",
          "2022-03-18",
          "2022-03-19",
          "2022-03-20",
          "2022-03-24",
          "2022-03-25",
          "2022-04-06",
          "2022-04-07",
          "2022-04-08",
          "2022-04-09",
          "2022-04-10",
          "2022-04-11",
          "2022-04-12",
          "2022-04-13",
          "2022-04-23",
          "2022-04-24",
          "2022-04-25",
          "2022-04-26",
          "2022-04-27",
          "2022-04-28",
          "2022-04-30",
          "2022-05-01",
          "2022-05-02",
          "2022-05-03",
          "2022-05-04",
          "2022-05-05",
          "2022-05-06",
          "2022-05-07",
          "2022-05-08",
          "2022-05-09",
          "2022-05-10",
          "2022-05-11",
          "2022-05-12",
          "2022-05-13",
          "2022-05-14",
          "2022-05-15",
          "2022-05-16",
          "2022-05-17",
          "2022-05-18",
          "2022-05-19",
          "2022-05-20",
          "2022-05-21",
          "2022-05-22",
          "2022-05-23",
          "2022-05-24",
          "2022-05-25",
          "2022-05-26",
          "2022-05-27",
          "2022-06-08",
          "2022-06-09",
          "2022-06-10",
          "2022-06-11",
          "2022-06-12",
          "2022-06-13",
          "2022-06-14",
          "2022-06-15",
          "2022-06-16",
          "2022-06-17",
          "2022-06-18",
          "2022-06-19",
          "2022-06-22",
          "2022-06-24",
          "2022-06-25",
          "2022-06-26",
          "2022-06-27",
          "2022-06-28",
          "2022-06-29",
          "2022-06-30",
          "2022-07-01",
          "2022-07-02",
          "2022-07-20",
          "2022-07-21",
          "2022-07-22",
          "2022-07-31",
          "2022-09-07",
          "2022-09-08",
          "2022-09-09",
          "2022-09-10",
          "2022-09-11",
          "2022-09-12",
          "2022-09-13",
          "2022-09-14",
          "2022-09-15",
          "2022-09-16",
          "2022-09-17",
          "2022-09-18",
          "2022-09-19",
          "2022-09-20",
          "2022-09-21",
          "2022-09-22",
          "2022-09-23",
          "2022-09-24",
          "2022-09-25",
          "2022-09-26",
          "2022-09-27",
          "2022-09-28",
          "2022-09-29",
          "2022-09-30",
          "2022-10-01",
          "2022-10-03",
          "2022-10-04",
          "2022-10-05",
          "2022-10-06",
          "2022-10-07",
          "2022-10-08",
          "2022-10-09",
          "2022-10-10",
          "2022-10-11",
          "2022-10-12",
          "2022-10-13",
          "2022-10-14",
          "2022-10-15",
          "2022-10-16",
          "2022-10-17",
          "2022-10-18",
          "2022-10-19",
          "2022-10-20",
          "2022-10-21",
          "2022-10-22",
          "2022-10-23",
          "2022-10-24",
          "2022-10-25",
          "2022-10-26",
          "2022-10-27",
          "2022-10-28",
          "2022-10-29",
          "2022-10-30",
          "2022-11-01",
          "2022-11-02",
          "2022-11-03",
          "2022-11-04",
          "2022-11-05",
          "2022-11-08",
          "2022-11-09"
         ],
         "xaxis": "x",
         "y": [
          "00:01:43",
          "23:59:43",
          "19:10:13",
          "23:59:55",
          "23:59:55",
          "23:59:25",
          "00:01:55",
          "23:59:55",
          "00:01:55",
          "00:01:55",
          "23:59:55",
          "23:59:55",
          "23:59:55",
          "23:59:55",
          "23:59:55",
          "23:59:55",
          "00:04:55",
          "00:01:55",
          "00:01:55",
          "00:01:55",
          "20:07:24",
          "00:01:34",
          "00:02:35",
          "00:01:35",
          "23:59:42",
          "00:01:42",
          "00:01:42",
          "00:01:42",
          "00:01:42",
          "00:01:42",
          "00:01:46",
          "23:59:46",
          "00:01:46",
          "00:01:46",
          "00:01:46",
          "23:59:42",
          "00:01:42",
          "00:01:42",
          "00:02:42",
          "23:59:42",
          "23:59:42",
          "00:01:42",
          "00:01:42",
          "00:01:59",
          "23:59:59",
          "00:01:59",
          "23:59:59",
          "23:59:59",
          "00:01:59",
          "00:01:33",
          "00:01:33",
          "00:02:33",
          "00:01:33",
          "00:01:33",
          "00:01:33",
          "23:59:33",
          "23:59:33",
          "23:59:33",
          "00:01:58",
          "22:21:58",
          "23:59:52",
          "00:02:52",
          "07:11:50",
          "23:59:41",
          "23:59:41",
          "23:59:59",
          "00:01:55",
          "23:59:58",
          "00:01:58",
          "23:59:56",
          "00:01:56",
          "00:01:36",
          "23:59:36",
          "23:59:35",
          "00:01:35",
          "23:59:35",
          "23:59:35",
          "23:59:35",
          "23:59:35",
          "23:59:50",
          "23:59:50",
          "00:02:50",
          "23:59:50",
          "23:59:50",
          "23:59:50",
          "23:59:50",
          "23:59:50",
          "23:59:50",
          "23:59:50",
          "00:01:50",
          "23:59:50",
          "23:59:50",
          "23:59:50",
          "23:59:50",
          "00:02:50",
          "00:01:50",
          "00:01:50",
          "23:59:50",
          "23:59:50",
          "23:59:50",
          "23:59:50",
          "23:59:50",
          "23:59:50",
          "00:01:50",
          "23:59:50",
          "23:59:50",
          "23:59:50",
          "23:59:58",
          "23:59:58",
          "23:59:58",
          "23:59:58",
          "23:59:58",
          "23:59:58",
          "23:59:58",
          "23:59:58",
          "23:59:58",
          "23:59:58",
          "23:59:58",
          "00:01:58",
          "23:59:58",
          "00:02:53",
          "00:01:53",
          "23:59:53",
          "00:01:53",
          "23:59:53",
          "23:59:53",
          "23:59:53",
          "00:01:53",
          "23:59:53",
          "23:59:50",
          "00:01:50",
          "00:01:50",
          "00:01:42",
          "00:01:44",
          "23:59:44",
          "00:01:44",
          "00:01:44",
          "23:59:44",
          "00:01:44",
          "00:01:44",
          "00:01:44",
          "23:59:44",
          "23:59:44",
          "23:59:44",
          "23:59:44",
          "00:01:44",
          "00:01:44",
          "00:01:44",
          "00:01:44",
          "00:01:44",
          "00:01:44",
          "00:01:44",
          "23:59:44",
          "00:01:44",
          "23:59:44",
          "23:59:44",
          "23:59:44",
          "00:01:44",
          "23:59:44",
          "23:59:44",
          "23:59:44",
          "23:59:44",
          "00:01:44",
          "00:01:44",
          "23:59:44",
          "23:59:44",
          "23:59:44",
          "00:01:44",
          "00:01:44",
          "23:59:44",
          "00:01:44",
          "23:59:44",
          "00:01:44",
          "23:59:44",
          "23:59:44",
          "23:59:44",
          "00:01:44",
          "00:01:44",
          "00:01:44",
          "23:59:44",
          "00:02:44",
          "00:01:44",
          "23:59:44",
          "00:01:44",
          "00:01:44",
          "23:59:44",
          "23:59:44",
          "00:01:44",
          "00:01:44",
          "00:01:44",
          "00:01:44",
          "23:59:44",
          "23:59:44"
         ],
         "yaxis": "y"
        }
       ],
       "layout": {
        "legend": {
         "title": {
          "text": "variable"
         },
         "tracegroupgap": 0
        },
        "margin": {
         "t": 60
        },
        "template": {
         "data": {
          "bar": [
           {
            "error_x": {
             "color": "#2a3f5f"
            },
            "error_y": {
             "color": "#2a3f5f"
            },
            "marker": {
             "line": {
              "color": "#E5ECF6",
              "width": 0.5
             },
             "pattern": {
              "fillmode": "overlay",
              "size": 10,
              "solidity": 0.2
             }
            },
            "type": "bar"
           }
          ],
          "barpolar": [
           {
            "marker": {
             "line": {
              "color": "#E5ECF6",
              "width": 0.5
             },
             "pattern": {
              "fillmode": "overlay",
              "size": 10,
              "solidity": 0.2
             }
            },
            "type": "barpolar"
           }
          ],
          "carpet": [
           {
            "aaxis": {
             "endlinecolor": "#2a3f5f",
             "gridcolor": "white",
             "linecolor": "white",
             "minorgridcolor": "white",
             "startlinecolor": "#2a3f5f"
            },
            "baxis": {
             "endlinecolor": "#2a3f5f",
             "gridcolor": "white",
             "linecolor": "white",
             "minorgridcolor": "white",
             "startlinecolor": "#2a3f5f"
            },
            "type": "carpet"
           }
          ],
          "choropleth": [
           {
            "colorbar": {
             "outlinewidth": 0,
             "ticks": ""
            },
            "type": "choropleth"
           }
          ],
          "contour": [
           {
            "colorbar": {
             "outlinewidth": 0,
             "ticks": ""
            },
            "colorscale": [
             [
              0,
              "#0d0887"
             ],
             [
              0.1111111111111111,
              "#46039f"
             ],
             [
              0.2222222222222222,
              "#7201a8"
             ],
             [
              0.3333333333333333,
              "#9c179e"
             ],
             [
              0.4444444444444444,
              "#bd3786"
             ],
             [
              0.5555555555555556,
              "#d8576b"
             ],
             [
              0.6666666666666666,
              "#ed7953"
             ],
             [
              0.7777777777777778,
              "#fb9f3a"
             ],
             [
              0.8888888888888888,
              "#fdca26"
             ],
             [
              1,
              "#f0f921"
             ]
            ],
            "type": "contour"
           }
          ],
          "contourcarpet": [
           {
            "colorbar": {
             "outlinewidth": 0,
             "ticks": ""
            },
            "type": "contourcarpet"
           }
          ],
          "heatmap": [
           {
            "colorbar": {
             "outlinewidth": 0,
             "ticks": ""
            },
            "colorscale": [
             [
              0,
              "#0d0887"
             ],
             [
              0.1111111111111111,
              "#46039f"
             ],
             [
              0.2222222222222222,
              "#7201a8"
             ],
             [
              0.3333333333333333,
              "#9c179e"
             ],
             [
              0.4444444444444444,
              "#bd3786"
             ],
             [
              0.5555555555555556,
              "#d8576b"
             ],
             [
              0.6666666666666666,
              "#ed7953"
             ],
             [
              0.7777777777777778,
              "#fb9f3a"
             ],
             [
              0.8888888888888888,
              "#fdca26"
             ],
             [
              1,
              "#f0f921"
             ]
            ],
            "type": "heatmap"
           }
          ],
          "heatmapgl": [
           {
            "colorbar": {
             "outlinewidth": 0,
             "ticks": ""
            },
            "colorscale": [
             [
              0,
              "#0d0887"
             ],
             [
              0.1111111111111111,
              "#46039f"
             ],
             [
              0.2222222222222222,
              "#7201a8"
             ],
             [
              0.3333333333333333,
              "#9c179e"
             ],
             [
              0.4444444444444444,
              "#bd3786"
             ],
             [
              0.5555555555555556,
              "#d8576b"
             ],
             [
              0.6666666666666666,
              "#ed7953"
             ],
             [
              0.7777777777777778,
              "#fb9f3a"
             ],
             [
              0.8888888888888888,
              "#fdca26"
             ],
             [
              1,
              "#f0f921"
             ]
            ],
            "type": "heatmapgl"
           }
          ],
          "histogram": [
           {
            "marker": {
             "pattern": {
              "fillmode": "overlay",
              "size": 10,
              "solidity": 0.2
             }
            },
            "type": "histogram"
           }
          ],
          "histogram2d": [
           {
            "colorbar": {
             "outlinewidth": 0,
             "ticks": ""
            },
            "colorscale": [
             [
              0,
              "#0d0887"
             ],
             [
              0.1111111111111111,
              "#46039f"
             ],
             [
              0.2222222222222222,
              "#7201a8"
             ],
             [
              0.3333333333333333,
              "#9c179e"
             ],
             [
              0.4444444444444444,
              "#bd3786"
             ],
             [
              0.5555555555555556,
              "#d8576b"
             ],
             [
              0.6666666666666666,
              "#ed7953"
             ],
             [
              0.7777777777777778,
              "#fb9f3a"
             ],
             [
              0.8888888888888888,
              "#fdca26"
             ],
             [
              1,
              "#f0f921"
             ]
            ],
            "type": "histogram2d"
           }
          ],
          "histogram2dcontour": [
           {
            "colorbar": {
             "outlinewidth": 0,
             "ticks": ""
            },
            "colorscale": [
             [
              0,
              "#0d0887"
             ],
             [
              0.1111111111111111,
              "#46039f"
             ],
             [
              0.2222222222222222,
              "#7201a8"
             ],
             [
              0.3333333333333333,
              "#9c179e"
             ],
             [
              0.4444444444444444,
              "#bd3786"
             ],
             [
              0.5555555555555556,
              "#d8576b"
             ],
             [
              0.6666666666666666,
              "#ed7953"
             ],
             [
              0.7777777777777778,
              "#fb9f3a"
             ],
             [
              0.8888888888888888,
              "#fdca26"
             ],
             [
              1,
              "#f0f921"
             ]
            ],
            "type": "histogram2dcontour"
           }
          ],
          "mesh3d": [
           {
            "colorbar": {
             "outlinewidth": 0,
             "ticks": ""
            },
            "type": "mesh3d"
           }
          ],
          "parcoords": [
           {
            "line": {
             "colorbar": {
              "outlinewidth": 0,
              "ticks": ""
             }
            },
            "type": "parcoords"
           }
          ],
          "pie": [
           {
            "automargin": true,
            "type": "pie"
           }
          ],
          "scatter": [
           {
            "fillpattern": {
             "fillmode": "overlay",
             "size": 10,
             "solidity": 0.2
            },
            "type": "scatter"
           }
          ],
          "scatter3d": [
           {
            "line": {
             "colorbar": {
              "outlinewidth": 0,
              "ticks": ""
             }
            },
            "marker": {
             "colorbar": {
              "outlinewidth": 0,
              "ticks": ""
             }
            },
            "type": "scatter3d"
           }
          ],
          "scattercarpet": [
           {
            "marker": {
             "colorbar": {
              "outlinewidth": 0,
              "ticks": ""
             }
            },
            "type": "scattercarpet"
           }
          ],
          "scattergeo": [
           {
            "marker": {
             "colorbar": {
              "outlinewidth": 0,
              "ticks": ""
             }
            },
            "type": "scattergeo"
           }
          ],
          "scattergl": [
           {
            "marker": {
             "colorbar": {
              "outlinewidth": 0,
              "ticks": ""
             }
            },
            "type": "scattergl"
           }
          ],
          "scattermapbox": [
           {
            "marker": {
             "colorbar": {
              "outlinewidth": 0,
              "ticks": ""
             }
            },
            "type": "scattermapbox"
           }
          ],
          "scatterpolar": [
           {
            "marker": {
             "colorbar": {
              "outlinewidth": 0,
              "ticks": ""
             }
            },
            "type": "scatterpolar"
           }
          ],
          "scatterpolargl": [
           {
            "marker": {
             "colorbar": {
              "outlinewidth": 0,
              "ticks": ""
             }
            },
            "type": "scatterpolargl"
           }
          ],
          "scatterternary": [
           {
            "marker": {
             "colorbar": {
              "outlinewidth": 0,
              "ticks": ""
             }
            },
            "type": "scatterternary"
           }
          ],
          "surface": [
           {
            "colorbar": {
             "outlinewidth": 0,
             "ticks": ""
            },
            "colorscale": [
             [
              0,
              "#0d0887"
             ],
             [
              0.1111111111111111,
              "#46039f"
             ],
             [
              0.2222222222222222,
              "#7201a8"
             ],
             [
              0.3333333333333333,
              "#9c179e"
             ],
             [
              0.4444444444444444,
              "#bd3786"
             ],
             [
              0.5555555555555556,
              "#d8576b"
             ],
             [
              0.6666666666666666,
              "#ed7953"
             ],
             [
              0.7777777777777778,
              "#fb9f3a"
             ],
             [
              0.8888888888888888,
              "#fdca26"
             ],
             [
              1,
              "#f0f921"
             ]
            ],
            "type": "surface"
           }
          ],
          "table": [
           {
            "cells": {
             "fill": {
              "color": "#EBF0F8"
             },
             "line": {
              "color": "white"
             }
            },
            "header": {
             "fill": {
              "color": "#C8D4E3"
             },
             "line": {
              "color": "white"
             }
            },
            "type": "table"
           }
          ]
         },
         "layout": {
          "annotationdefaults": {
           "arrowcolor": "#2a3f5f",
           "arrowhead": 0,
           "arrowwidth": 1
          },
          "autotypenumbers": "strict",
          "coloraxis": {
           "colorbar": {
            "outlinewidth": 0,
            "ticks": ""
           }
          },
          "colorscale": {
           "diverging": [
            [
             0,
             "#8e0152"
            ],
            [
             0.1,
             "#c51b7d"
            ],
            [
             0.2,
             "#de77ae"
            ],
            [
             0.3,
             "#f1b6da"
            ],
            [
             0.4,
             "#fde0ef"
            ],
            [
             0.5,
             "#f7f7f7"
            ],
            [
             0.6,
             "#e6f5d0"
            ],
            [
             0.7,
             "#b8e186"
            ],
            [
             0.8,
             "#7fbc41"
            ],
            [
             0.9,
             "#4d9221"
            ],
            [
             1,
             "#276419"
            ]
           ],
           "sequential": [
            [
             0,
             "#0d0887"
            ],
            [
             0.1111111111111111,
             "#46039f"
            ],
            [
             0.2222222222222222,
             "#7201a8"
            ],
            [
             0.3333333333333333,
             "#9c179e"
            ],
            [
             0.4444444444444444,
             "#bd3786"
            ],
            [
             0.5555555555555556,
             "#d8576b"
            ],
            [
             0.6666666666666666,
             "#ed7953"
            ],
            [
             0.7777777777777778,
             "#fb9f3a"
            ],
            [
             0.8888888888888888,
             "#fdca26"
            ],
            [
             1,
             "#f0f921"
            ]
           ],
           "sequentialminus": [
            [
             0,
             "#0d0887"
            ],
            [
             0.1111111111111111,
             "#46039f"
            ],
            [
             0.2222222222222222,
             "#7201a8"
            ],
            [
             0.3333333333333333,
             "#9c179e"
            ],
            [
             0.4444444444444444,
             "#bd3786"
            ],
            [
             0.5555555555555556,
             "#d8576b"
            ],
            [
             0.6666666666666666,
             "#ed7953"
            ],
            [
             0.7777777777777778,
             "#fb9f3a"
            ],
            [
             0.8888888888888888,
             "#fdca26"
            ],
            [
             1,
             "#f0f921"
            ]
           ]
          },
          "colorway": [
           "#636efa",
           "#EF553B",
           "#00cc96",
           "#ab63fa",
           "#FFA15A",
           "#19d3f3",
           "#FF6692",
           "#B6E880",
           "#FF97FF",
           "#FECB52"
          ],
          "font": {
           "color": "#2a3f5f"
          },
          "geo": {
           "bgcolor": "white",
           "lakecolor": "white",
           "landcolor": "#E5ECF6",
           "showlakes": true,
           "showland": true,
           "subunitcolor": "white"
          },
          "hoverlabel": {
           "align": "left"
          },
          "hovermode": "closest",
          "mapbox": {
           "style": "light"
          },
          "paper_bgcolor": "white",
          "plot_bgcolor": "#E5ECF6",
          "polar": {
           "angularaxis": {
            "gridcolor": "white",
            "linecolor": "white",
            "ticks": ""
           },
           "bgcolor": "#E5ECF6",
           "radialaxis": {
            "gridcolor": "white",
            "linecolor": "white",
            "ticks": ""
           }
          },
          "scene": {
           "xaxis": {
            "backgroundcolor": "#E5ECF6",
            "gridcolor": "white",
            "gridwidth": 2,
            "linecolor": "white",
            "showbackground": true,
            "ticks": "",
            "zerolinecolor": "white"
           },
           "yaxis": {
            "backgroundcolor": "#E5ECF6",
            "gridcolor": "white",
            "gridwidth": 2,
            "linecolor": "white",
            "showbackground": true,
            "ticks": "",
            "zerolinecolor": "white"
           },
           "zaxis": {
            "backgroundcolor": "#E5ECF6",
            "gridcolor": "white",
            "gridwidth": 2,
            "linecolor": "white",
            "showbackground": true,
            "ticks": "",
            "zerolinecolor": "white"
           }
          },
          "shapedefaults": {
           "line": {
            "color": "#2a3f5f"
           }
          },
          "ternary": {
           "aaxis": {
            "gridcolor": "white",
            "linecolor": "white",
            "ticks": ""
           },
           "baxis": {
            "gridcolor": "white",
            "linecolor": "white",
            "ticks": ""
           },
           "bgcolor": "#E5ECF6",
           "caxis": {
            "gridcolor": "white",
            "linecolor": "white",
            "ticks": ""
           }
          },
          "title": {
           "x": 0.05
          },
          "xaxis": {
           "automargin": true,
           "gridcolor": "white",
           "linecolor": "white",
           "ticks": "",
           "title": {
            "standoff": 15
           },
           "zerolinecolor": "white",
           "zerolinewidth": 2
          },
          "yaxis": {
           "automargin": true,
           "gridcolor": "white",
           "linecolor": "white",
           "ticks": "",
           "title": {
            "standoff": 15
           },
           "zerolinecolor": "white",
           "zerolinewidth": 2
          }
         }
        },
        "xaxis": {
         "anchor": "y",
         "domain": [
          0,
          1
         ],
         "title": {
          "text": "Date"
         }
        },
        "yaxis": {
         "anchor": "x",
         "domain": [
          0,
          1
         ],
         "title": {
          "text": "value"
         }
        }
       }
      }
     },
     "metadata": {},
     "output_type": "display_data"
    }
   ],
   "source": [
    "df = pd.read_csv('D:\\OneDrive - Habib University\\HU\\KWP\\KWP-winter22\\\\Data\\SleepingPatterns/SP_N'+str(3)+'.csv')\n",
    "# df = df.sort_values('TimeSleep')\n",
    "fig = px.line(df,x='Date',y=['TimeWake','TimeSleep'])\n",
    "# fig.update_yaxes(categoryorder='array', categoryarray= df['TimeSleep'].unique())\n",
    "fig.show()"
   ]
  },
  {
   "attachments": {},
   "cell_type": "markdown",
   "metadata": {},
   "source": [
    "## Mov Avg"
   ]
  },
  {
   "cell_type": "code",
   "execution_count": null,
   "metadata": {},
   "outputs": [],
   "source": [
    "fig = go.Figure()\n",
    "for i in range(2,28):\n",
    "    df = pd.read_csv('D:\\OneDrive - Habib University\\HU\\KWP\\\\Data\\DataDaily\\ALLTF_Daily '+str(i)+' .csv') #2-27\n",
    "    # df['date'] = df.datetime.str[:10]\n",
    "    df['mov_avg'] = df['TotalVol'].rolling(window=30).mean()\n",
    "    fig = fig.add_trace(go.Scatter(x = df['Date'], y = df[\"mov_avg\"], name = 'N'+str(i-1)))\n",
    "fig.update_layout(title='Monthly Moving Average')\n",
    "fig.show()"
   ]
  },
  {
   "cell_type": "code",
   "execution_count": null,
   "metadata": {},
   "outputs": [],
   "source": [
    "fig = px.line(df,x='Date',y=['mov_avg'])\n",
    "fig.show()"
   ]
  },
  {
   "attachments": {},
   "cell_type": "markdown",
   "metadata": {},
   "source": [
    "## Useful Data"
   ]
  },
  {
   "cell_type": "code",
   "execution_count": null,
   "metadata": {},
   "outputs": [],
   "source": [
    "'''Adding #datapoints to files with total water usage/day (TF)'''\n",
    "for i in range(10,27):\n",
    "    df_cf = pd.read_csv('D:\\OneDrive - Habib University\\HU\\KWP\\\\Data\\DataDaily\\ALLCF_Daily'+str(i)+'.csv') #1-26\n",
    "    df_tf = pd.read_csv('D:\\OneDrive - Habib University\\HU\\KWP\\\\Data\\DataDaily\\ALLTF_Daily '+str(i+1)+' .csv') #2-27\n",
    "    dates = df_cf['Date'].unique()\n",
    "    dtpts = []\n",
    "    for date in dates: #for each date of the node\n",
    "        df_date = df_cf[df_cf[\"Date\"] == date]\n",
    "        no_dtpts = len(df_date)\n",
    "        dtpts.append(no_dtpts)\n",
    "    df_tf['#Datapoints'] = dtpts\n",
    "    df_tf.to_csv('D:\\OneDrive - Habib University\\HU\\KWP\\\\Data\\DataDaily\\ALLTF\\ALLTF_Daily'+str(i)+'.csv')"
   ]
  },
  {
   "cell_type": "code",
   "execution_count": null,
   "metadata": {},
   "outputs": [],
   "source": [
    "'''More info on #datapoints/day for each node.'''\n",
    "# c_2880 = []\n",
    "c_L1000 = []\n",
    "# c_G2880 = []\n",
    "for i in range(1,27):\n",
    "    df_tf = pd.read_csv('D:\\OneDrive - Habib University\\HU\\KWP\\\\Data\\DataDaily\\ALLTF_Daily'+str(i)+'.csv') #1-26\n",
    "    # c_2880.append(list(df_tf['#Datapoints']).count(2880))\n",
    "    c_L1000.append(len(df_tf[df_tf['#Datapoints']<1000]))\n",
    "    # c_G2880.append(len(df_tf[df_tf['#Datapoints']>2880]))\n",
    "# print(len(c_2880))\n",
    "print(len(c_L1000))\n",
    "# print(len(c_G2880))\n",
    "df = pd.read_csv('D:\\OneDrive - Habib University\\HU\\KWP\\\\Data\\DataDaily\\ALLCF_DataPointsPerDay.csv')\n",
    "# df['=2880'] = c_2880\n",
    "# df['<200'] = c_L200\n",
    "# df['>2880'] = c_G2880\n",
    "df['<1000 (#days)'] = c_L1000\n",
    "df.to_csv('D:\\OneDrive - Habib University\\HU\\KWP\\\\Data\\DataDaily\\ALLCF_DataPointsPerDay.csv')"
   ]
  },
  {
   "attachments": {},
   "cell_type": "markdown",
   "metadata": {},
   "source": [
    "'''No. of days in raw data vs in preprocessed data.'''\n"
   ]
  },
  {
   "cell_type": "code",
   "execution_count": null,
   "metadata": {},
   "outputs": [],
   "source": [
    "days = pd.DataFrame(columns=['NodeID','Raw','Preprocessed-w0s','Preprocessed-wo0s'])"
   ]
  },
  {
   "cell_type": "code",
   "execution_count": null,
   "metadata": {},
   "outputs": [],
   "source": [
    "'''No. of days in raw data vs in preprocessed data.'''\n",
    "for i in range(10,27):\n",
    "    row = []\n",
    "    df = pd.read_csv('D:\\OneDrive - Habib University\\HU\\KWP\\\\Data\\ALLSENSORDATA\\\\N'+str(i)+'.csv') #1-26\n",
    "    time_sampled = list(df['time_sampled'])\n",
    "    datetime_obj = []\n",
    "    for j in time_sampled:\n",
    "        datetime_obj.append(str(datetime.fromtimestamp(int(j)))) #converts each timestamp to datetime format using computer's local timezone ie KHI\n",
    "    df['datetime'] = datetime_obj\n",
    "    df['date'] = df.datetime.str[0:10]\n",
    "    dates = len(df['date'].unique())\n",
    "    row.append('N'+str(i))\n",
    "    row.append(dates)\n",
    "    df = pd.read_csv('D:\\OneDrive - Habib University\\HU\\KWP\\\\Data\\Preprocessed\\\\N'+str(i)+'_cleaned.csv') #1-26\n",
    "    df['date'] = df.datetime.str[0:10]\n",
    "    dates = len(df['date'].unique())\n",
    "    row.append(dates)\n",
    "    df = pd.read_csv('D:\\OneDrive - Habib University\\HU\\KWP\\\\Data\\DailyUsage\\ALLTF_Daily'+str(i)+'.csv') #1-26\n",
    "    row.append(len(df))\n",
    "    days.loc[len(days)] = row"
   ]
  },
  {
   "cell_type": "code",
   "execution_count": null,
   "metadata": {},
   "outputs": [],
   "source": [
    "'''Appending #days for new dataset to existing file'''\n",
    "no_days = []\n",
    "for i in range(1,27):\n",
    "    df = pd.read_csv('D:\\OneDrive - Habib University\\HU\\KWP\\\\Data\\Preprocessed\\OldSensorData\\\\with dvol\\\\N'+str(i)+'_cleaned.csv')\n",
    "    df['Date'] = df.datetime.str[0:10]\n",
    "    no_days.append(len(df['Date'].unique()))\n",
    "days = pd.read_csv('D:\\OneDrive - Habib University\\HU\\KWP\\\\Data\\\\No.DaysinDataset.csv')\n",
    "days['WithZ'] = no_days\n",
    "days.to_csv('D:\\OneDrive - Habib University\\HU\\KWP\\\\Data\\\\No.DaysinDataset.csv')"
   ]
  },
  {
   "attachments": {},
   "cell_type": "markdown",
   "metadata": {},
   "source": [
    "Quantiles for volume and no. datapoints"
   ]
  },
  {
   "cell_type": "code",
   "execution_count": null,
   "metadata": {},
   "outputs": [],
   "source": [
    "'''Freq distribution of total daily volume/datapoints for each node'''\n",
    "vol_quantiles = pd.DataFrame(columns=['NodeID','5th','10th','50th','90th','95th'])\n",
    "for i in range(1,27):\n",
    "    row = []\n",
    "    # df = pd.read_csv('D:\\OneDrive - Habib University\\HU\\KWP\\\\Data\\DailyUsage\\ALLTF_Daily'+str(i)+'.csv') #1-26\n",
    "    df = pd.read_csv('D:\\OneDrive - Habib University\\HU\\KWP\\\\Data\\Preprocessed\\TF_N'+str(i)+'.csv') #1-26\n",
    "    df['no_dtpts'] = df['TotalVol']\n",
    "    row = ['N'+str(i), df.no_dtpts.quantile(0.05),df.no_dtpts.quantile(0.1),df.no_dtpts.quantile(0.5),df.no_dtpts.quantile(0.9),df.no_dtpts.quantile(0.95)]\n",
    "    vol_quantiles.loc[len(vol_quantiles)] = row\n",
    "    # fig = px.histogram(df, x=\"no_dtpts\", nbins=50,title='N'+str(i))\n",
    "    # # fig.show()\n",
    "    # pio.write_image(fig, 'D:\\OneDrive - Habib University\\HU\\KWP\\\\Figures\\DP-Quant\\DailyDP-N'+str(i)+'.png')\n",
    "vol_quantiles.to_csv('D:\\OneDrive - Habib University\\HU\\KWP\\\\Data\\\\VolQuantiles-withzeros.csv')"
   ]
  },
  {
   "attachments": {},
   "cell_type": "markdown",
   "metadata": {},
   "source": [
    "## removing days with missing data"
   ]
  },
  {
   "cell_type": "code",
   "execution_count": null,
   "metadata": {},
   "outputs": [],
   "source": [
    "def five_mins_missing(df):\n",
    "    '''Takes dataframe for one day as input. Returns True if more than 5mins of consecutive data is missing in dataframe.'''\n",
    "    df['datetime'] = df['datetime'].apply(lambda x: datetime.strptime(x, \"%Y-%m-%d %H:%M:%S\"))\n",
    "    ser_diff = df['datetime'].diff()\n",
    "    ser_diff = ser_diff.dt.total_seconds().div(60, fill_value=0)\n",
    "    if ser_diff.max() > 5: #if max time difference in datapoints in > 5 minutes\n",
    "        return True\n",
    "    return False"
   ]
  },
  {
   "cell_type": "code",
   "execution_count": null,
   "metadata": {},
   "outputs": [],
   "source": [
    "for i in range(1,27): # for each node \n",
    "    print('Node',i)\n",
    "    df = pd.read_csv('D:\\OneDrive - Habib University\\HU\\KWP\\\\Data\\Preprocessed\\OldSensorData\\with dvol\\\\N'+str(i)+'_cleaned.csv') #1-26\n",
    "    df_tf = pd.read_csv('D:\\OneDrive - Habib University\\HU\\KWP\\\\Data\\Preprocessed\\OldSensorData\\TF_N'+str(i)+'.csv') #1-26\n",
    "    MIN_DTPTS = 2870 #df_tf.No_dp.quantile(0.99) \n",
    "    MIN_DVOL = 200 if df_tf.TotalVol.quantile(0.1) < 20 else df_tf.TotalVol.quantile(0.1) #10th percentile or 200 (if low perc.)\n",
    "    df['Date'] = df.datetime.str[:10]\n",
    "    dates = df['Date'].unique()\n",
    "    for date in dates: #for each date of the node\n",
    "        df_date = df[df[\"Date\"] == date]\n",
    "        if len(df_date) < MIN_DTPTS or list(df_date['DVol'])[-1] < MIN_DVOL: #len(df_date) < MIN_DTPTS\n",
    "            df = df[df[\"Date\"] != date] #remove datapoints from this date from dataset\n",
    "    # path = \"\".join('D:\\OneDrive - Habib University\\HU\\KWP\\\\Data\\Preprocessed\\useful days\\\\useful_N',str(i),'.csv')\n",
    "    # df.to_csv(path)\n",
    "    df.to_csv('D:\\OneDrive - Habib University\\HU\\KWP\\\\Data\\Preprocessed\\OldSensorData\\\\filtered-2870dp\\\\filtered'+str(i)+'.csv')\n",
    "# df.head()\n"
   ]
  },
  {
   "attachments": {},
   "cell_type": "markdown",
   "metadata": {},
   "source": [
    "## Peak WU"
   ]
  },
  {
   "cell_type": "code",
   "execution_count": null,
   "metadata": {},
   "outputs": [],
   "source": [
    "peak = pd.DataFrame(columns=['NodeID','total_days','peak_days','total_vol','peak_vol','occupants'])\n",
    "for i in range(1,27):\n",
    "    df = pd.read_csv('D:\\OneDrive - Habib University\\HU\\KWP\\\\Data\\DailyUsage\\ALLTF_Daily'+str(i)+'.csv') #1-26\n",
    "    df_peak = df[df['TotalVol'] > df.TotalVol.quantile(0.90)]\n",
    "    no_hh_mem = hh_members[i-1]\n",
    "    row = ['N'+str(i),len(df),len(df_peak),df['TotalVol'].sum(),df_peak['TotalVol'].sum(),no_hh_mem]\n",
    "    peak.loc[len(peak)]= row\n",
    "    # fig = px.line(df, x='Date', y = 'TotalVol', title='N'+str(i)+' ,Occupants: '+str(no_hh_mem))\n",
    "    # pio.write_image(fig, 'D:\\OneDrive - Habib University\\HU\\KWP\\\\Figures\\Peak Usage\\Peak-N'+str(i)+'.png')\n",
    "peak.to_csv('D:\\OneDrive - Habib University\\HU\\KWP\\\\Data\\PeakWU.csv') #1-26\n",
    "    "
   ]
  },
  {
   "attachments": {},
   "cell_type": "markdown",
   "metadata": {},
   "source": [
    "## WU - Mor, Aft, Eve."
   ]
  },
  {
   "cell_type": "code",
   "execution_count": null,
   "metadata": {},
   "outputs": [],
   "source": [
    "period_day = pd.DataFrame(columns=['NodeID','mornings_tot(%)','afternoons_tot(%)','evenings_tot(%)'])\n",
    "nodes = []"
   ]
  },
  {
   "cell_type": "code",
   "execution_count": null,
   "metadata": {},
   "outputs": [],
   "source": [
    "morns = []\n",
    "noons = []\n",
    "eve = []"
   ]
  },
  {
   "cell_type": "code",
   "execution_count": null,
   "metadata": {},
   "outputs": [],
   "source": [
    "for i in range(10,27):\n",
    "    df = pd.read_csv('D:\\OneDrive - Habib University\\HU\\KWP\\\\Data\\DailyUsage\\ALLCF_Daily'+str(i)+'.csv') #1-26\n",
    "    df_tf = pd.read_csv('D:\\OneDrive - Habib University\\HU\\KWP\\\\Data\\DailyUsage\\ALLTF_Daily'+str(i)+'.csv') #1-26\n",
    "    df['Hour'] = df.Time.str[:2]\n",
    "    df_morn = df[df['Hour'].isin(['04','05','06','07','08','09','10','11'])].groupby('Date').max()\n",
    "    df_eve = df[df['Hour'].isin(['17','18','19','20','21','22','23'])].groupby('Date').max()\n",
    "    df_aftnoon = df[df['Hour'].isin(['12','13','14','15','16'])].groupby('Date').max()\n",
    "\n",
    "    # subtracting volume of previous period of day, as dvol is cumulative daily volume\n",
    "    df_eve['DVol'] = df_eve['DVol'] - df_aftnoon['DVol']\n",
    "    df_aftnoon['DVol'] = df_aftnoon['DVol'] - df_morn['DVol']\n",
    "\n",
    "    # #total vol used by node in period of day as % of total vol used by node\n",
    "    # morns.append(df_morn['DVol'].sum()/df_tf['TotalVol'].sum()*100) \n",
    "    # noons.append(df_aftnoon['DVol'].sum()/df_tf['TotalVol'].sum()*100)\n",
    "    # eve.append(df_eve['DVol'].sum()/df_tf['TotalVol'].sum()*100)\n",
    "    \n",
    "    # # plotting figures for each node's usage during each period of day\n",
    "    # fig = px.line(df_aftnoon,x=df_aftnoon.index,y='DVol',title='N'+str(i)+' - Afternoons')\n",
    "    # pio.write_image(fig, 'D:\\OneDrive - Habib University\\HU\\KWP\\\\Figures\\Afternoons\\\\afternoons-N'+str(i)+'.png')\n",
    "    # fig = px.line(df_eve,x=df_eve.index,y='DVol',title='N'+str(i)+' - Evenings')\n",
    "    # pio.write_image(fig, 'D:\\OneDrive - Habib University\\HU\\KWP\\\\Figures\\Evenings\\\\evenings-N'+str(i)+'.png')\n",
    "\n",
    "    # Plotting all time periods of each node on same figure\n",
    "    fig = go.Figure()\n",
    "    fig = fig.add_trace(go.Scatter(x = df_morn.index, y = df_morn[\"DVol\"], name = 'Mornings'))\n",
    "    fig = fig.add_trace(go.Scatter(x = df_aftnoon.index, y = df_aftnoon[\"DVol\"], name = 'Afternoons'))\n",
    "    fig = fig.add_trace(go.Scatter(x = df_eve.index, y = df_eve[\"DVol\"], name = 'Evenings'))\n",
    "    fig.update_layout(title='N'+str(i)+' - '+str(hh_members[i-1])+' Occupants (Weekends)')\n",
    "    pio.write_image(fig, 'D:\\OneDrive - Habib University\\HU\\KWP\\\\Figures\\\\timesofday\\\\periods-N'+str(i)+'.png')"
   ]
  },
  {
   "cell_type": "code",
   "execution_count": null,
   "metadata": {},
   "outputs": [],
   "source": [
    "period_day['mornings_tot(%)'] = morns\n",
    "period_day['afternoons_tot(%)'] = noons\n",
    "period_day['evenings_tot(%)'] = eve\n",
    "period_day.to_csv('D:\\OneDrive - Habib University\\HU\\KWP\\\\Data\\PeriodsWU_v2.csv')"
   ]
  },
  {
   "attachments": {},
   "cell_type": "markdown",
   "metadata": {},
   "source": [
    "## Window - 50% WU"
   ]
  },
  {
   "cell_type": "code",
   "execution_count": null,
   "metadata": {},
   "outputs": [],
   "source": [
    "def smallestSubWithSum(arr, n, x):\n",
    "\t# Initialize length of smallest subarray as n+1\n",
    "\tmin_len = n + 1\n",
    "\t# Pick every element as starting point\n",
    "\tfor start in range(0,n):\n",
    "\t\t# Initialize sum startingwith current start\n",
    "\t\tcurr_sum = arr[start]\n",
    "\t\t# If first element itself is greater\n",
    "\t\tif (curr_sum > x):\n",
    "\t\t\treturn 1\n",
    "\t\t# Try different ending points for current start\n",
    "\t\tfor end in range(start+1,n):\n",
    "\t\t\t# add last element to current sum\n",
    "\t\t\tcurr_sum += arr[end]\n",
    "\t\t\t# If sum becomes more than x and length of this subarray is smaller than current smallest length, update the smallest length (or result)\n",
    "\t\t\tif curr_sum > x and (end - start + 1) < min_len:\n",
    "\t\t\t\tmin_len = (end - start + 1)\n",
    "\treturn min_len\n"
   ]
  },
  {
   "cell_type": "code",
   "execution_count": 2,
   "metadata": {},
   "outputs": [],
   "source": [
    "def min_sublist(lst, value):\n",
    "    min_length = float('inf')\n",
    "    start = end = 0\n",
    "    curr_sum = 0\n",
    "    \n",
    "    for i, num in enumerate(lst):\n",
    "        curr_sum += num\n",
    "        end = i\n",
    "        \n",
    "        while curr_sum >= value:\n",
    "            if end - start + 1 < min_length:\n",
    "                min_length = end - start + 1\n",
    "                min_start = start\n",
    "                min_end = end\n",
    "            curr_sum -= lst[start]\n",
    "            start += 1\n",
    "    \n",
    "    return min_start, min_end\n",
    "\n",
    "# # Test the function\n",
    "# lst = [1,8, 2, 3, 4, 5, 4]\n",
    "# value = 9\n",
    "# print(min_sublist(lst, value))  # Output: (2, 4)\n"
   ]
  },
  {
   "cell_type": "code",
   "execution_count": 3,
   "metadata": {},
   "outputs": [
    {
     "ename": "KeyboardInterrupt",
     "evalue": "",
     "output_type": "error",
     "traceback": [
      "\u001b[1;31m---------------------------------------------------------------------------\u001b[0m",
      "\u001b[1;31mKeyboardInterrupt\u001b[0m                         Traceback (most recent call last)",
      "Cell \u001b[1;32mIn [3], line 10\u001b[0m\n\u001b[0;32m      8\u001b[0m fifty_date \u001b[39m=\u001b[39m df_date[\u001b[39m'\u001b[39m\u001b[39mvolume\u001b[39m\u001b[39m'\u001b[39m]\u001b[39m.\u001b[39msum()\u001b[39m*\u001b[39m\u001b[39m0.5\u001b[39m\n\u001b[0;32m      9\u001b[0m \u001b[39mif\u001b[39;00m fifty_date \u001b[39m>\u001b[39m \u001b[39m0\u001b[39m:\n\u001b[1;32m---> 10\u001b[0m     w_start, w_end \u001b[39m=\u001b[39m min_sublist(\u001b[39mlist\u001b[39;49m(df_date[\u001b[39m'\u001b[39;49m\u001b[39mvolume\u001b[39;49m\u001b[39m'\u001b[39;49m]),fifty_date)\n\u001b[0;32m     11\u001b[0m     time_start \u001b[39m=\u001b[39m \u001b[39mlist\u001b[39m(df_date[\u001b[39m'\u001b[39m\u001b[39mdatetime\u001b[39m\u001b[39m'\u001b[39m])[w_start]\n\u001b[0;32m     12\u001b[0m     time_end \u001b[39m=\u001b[39m \u001b[39mlist\u001b[39m(df_date[\u001b[39m'\u001b[39m\u001b[39mdatetime\u001b[39m\u001b[39m'\u001b[39m])[w_end]\n",
      "Cell \u001b[1;32mIn [2], line 14\u001b[0m, in \u001b[0;36mmin_sublist\u001b[1;34m(lst, value)\u001b[0m\n\u001b[0;32m     12\u001b[0m     min_length \u001b[39m=\u001b[39m end \u001b[39m-\u001b[39m start \u001b[39m+\u001b[39m \u001b[39m1\u001b[39m\n\u001b[0;32m     13\u001b[0m     min_start \u001b[39m=\u001b[39m start\n\u001b[1;32m---> 14\u001b[0m     min_end \u001b[39m=\u001b[39m end\n\u001b[0;32m     15\u001b[0m curr_sum \u001b[39m-\u001b[39m\u001b[39m=\u001b[39m lst[start]\n\u001b[0;32m     16\u001b[0m start \u001b[39m+\u001b[39m\u001b[39m=\u001b[39m \u001b[39m1\u001b[39m\n",
      "Cell \u001b[1;32mIn [2], line 14\u001b[0m, in \u001b[0;36mmin_sublist\u001b[1;34m(lst, value)\u001b[0m\n\u001b[0;32m     12\u001b[0m     min_length \u001b[39m=\u001b[39m end \u001b[39m-\u001b[39m start \u001b[39m+\u001b[39m \u001b[39m1\u001b[39m\n\u001b[0;32m     13\u001b[0m     min_start \u001b[39m=\u001b[39m start\n\u001b[1;32m---> 14\u001b[0m     min_end \u001b[39m=\u001b[39m end\n\u001b[0;32m     15\u001b[0m curr_sum \u001b[39m-\u001b[39m\u001b[39m=\u001b[39m lst[start]\n\u001b[0;32m     16\u001b[0m start \u001b[39m+\u001b[39m\u001b[39m=\u001b[39m \u001b[39m1\u001b[39m\n",
      "File \u001b[1;32m_pydevd_bundle/pydevd_cython.pyx:1443\u001b[0m, in \u001b[0;36m_pydevd_bundle.pydevd_cython.SafeCallWrapper.__call__\u001b[1;34m()\u001b[0m\n",
      "File \u001b[1;32m_pydevd_bundle/pydevd_cython.pyx:700\u001b[0m, in \u001b[0;36m_pydevd_bundle.pydevd_cython.PyDBFrame.trace_dispatch\u001b[1;34m()\u001b[0m\n",
      "File \u001b[1;32m_pydevd_bundle/pydevd_cython.pyx:1368\u001b[0m, in \u001b[0;36m_pydevd_bundle.pydevd_cython.PyDBFrame.trace_dispatch\u001b[1;34m()\u001b[0m\n",
      "File \u001b[1;32m_pydevd_bundle/pydevd_cython.pyx:1330\u001b[0m, in \u001b[0;36m_pydevd_bundle.pydevd_cython.PyDBFrame.trace_dispatch\u001b[1;34m()\u001b[0m\n",
      "File \u001b[1;32m_pydevd_bundle/pydevd_cython.pyx:311\u001b[0m, in \u001b[0;36m_pydevd_bundle.pydevd_cython.PyDBFrame.do_wait_suspend\u001b[1;34m()\u001b[0m\n",
      "File \u001b[1;32mc:\\Users\\Digital Traders\\AppData\\Local\\Programs\\Python\\Python310\\lib\\site-packages\\debugpy\\_vendored\\pydevd\\pydevd.py:2062\u001b[0m, in \u001b[0;36mPyDB.do_wait_suspend\u001b[1;34m(self, thread, frame, event, arg, exception_type)\u001b[0m\n\u001b[0;32m   2059\u001b[0m             from_this_thread\u001b[39m.\u001b[39mappend(frame_custom_thread_id)\n\u001b[0;32m   2061\u001b[0m     \u001b[39mwith\u001b[39;00m \u001b[39mself\u001b[39m\u001b[39m.\u001b[39m_threads_suspended_single_notification\u001b[39m.\u001b[39mnotify_thread_suspended(thread_id, stop_reason):\n\u001b[1;32m-> 2062\u001b[0m         keep_suspended \u001b[39m=\u001b[39m \u001b[39mself\u001b[39;49m\u001b[39m.\u001b[39;49m_do_wait_suspend(thread, frame, event, arg, suspend_type, from_this_thread, frames_tracker)\n\u001b[0;32m   2064\u001b[0m frames_list \u001b[39m=\u001b[39m \u001b[39mNone\u001b[39;00m\n\u001b[0;32m   2066\u001b[0m \u001b[39mif\u001b[39;00m keep_suspended:\n\u001b[0;32m   2067\u001b[0m     \u001b[39m# This means that we should pause again after a set next statement.\u001b[39;00m\n",
      "File \u001b[1;32mc:\\Users\\Digital Traders\\AppData\\Local\\Programs\\Python\\Python310\\lib\\site-packages\\debugpy\\_vendored\\pydevd\\pydevd.py:2098\u001b[0m, in \u001b[0;36mPyDB._do_wait_suspend\u001b[1;34m(self, thread, frame, event, arg, suspend_type, from_this_thread, frames_tracker)\u001b[0m\n\u001b[0;32m   2095\u001b[0m         \u001b[39mself\u001b[39m\u001b[39m.\u001b[39m_call_input_hook()\n\u001b[0;32m   2097\u001b[0m     \u001b[39mself\u001b[39m\u001b[39m.\u001b[39mprocess_internal_commands()\n\u001b[1;32m-> 2098\u001b[0m     time\u001b[39m.\u001b[39;49msleep(\u001b[39m0.01\u001b[39;49m)\n\u001b[0;32m   2100\u001b[0m \u001b[39mself\u001b[39m\u001b[39m.\u001b[39mcancel_async_evaluation(get_current_thread_id(thread), \u001b[39mstr\u001b[39m(\u001b[39mid\u001b[39m(frame)))\n\u001b[0;32m   2102\u001b[0m \u001b[39m# process any stepping instructions\u001b[39;00m\n",
      "\u001b[1;31mKeyboardInterrupt\u001b[0m: "
     ]
    }
   ],
   "source": [
    "i = 1\n",
    "fifty = pd.DataFrame(columns=['NodeID','date','time_start','time_end','50WU'])\n",
    "df = pd.read_csv('D:\\OneDrive - Habib University\\HU\\KWP\\KWP-winter22\\\\Data\\Preprocessed\\OldSensorData\\with dvol\\\\N'+str(i)+'_cleaned.csv') #1-26\n",
    "df['Date'] = df.datetime.str[:10]\n",
    "dates = df['Date'].unique()\n",
    "for d in dates: #for each date of the node\n",
    "    df_date = df[df[\"Date\"] == d] \n",
    "    fifty_date = df_date['volume'].sum()*0.5\n",
    "    if fifty_date > 0:\n",
    "        w_start, w_end = min_sublist(list(df_date['volume']),fifty_date)\n",
    "        time_start = list(df_date['datetime'])[w_start]\n",
    "        time_end = list(df_date['datetime'])[w_end]\n",
    "        fifty.loc[len(fifty)] = ['N'+str(i),d,time_start,time_end,fifty_date]\n",
    "    else:\n",
    "        fifty.loc[len(fifty)] = ['N'+str(i),d,0,0,fifty_date]\n",
    "fifty.to_csv('D:\\OneDrive - Habib University\\HU\\KWP\\\\Data\\50pWU\\\\N'+str(i)+'.csv')"
   ]
  }
 ],
 "metadata": {
  "kernelspec": {
   "display_name": "Python 3",
   "language": "python",
   "name": "python3"
  },
  "language_info": {
   "codemirror_mode": {
    "name": "ipython",
    "version": 3
   },
   "file_extension": ".py",
   "mimetype": "text/x-python",
   "name": "python",
   "nbconvert_exporter": "python",
   "pygments_lexer": "ipython3",
   "version": "3.10.1"
  },
  "orig_nbformat": 4,
  "vscode": {
   "interpreter": {
    "hash": "d17d789d09319aec541bff4a4c00f3ea3849f8cb7bec3b7b901fb7a4cea7bb15"
   }
  }
 },
 "nbformat": 4,
 "nbformat_minor": 2
}
